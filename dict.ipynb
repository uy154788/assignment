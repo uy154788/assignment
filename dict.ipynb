{
 "cells": [
  {
   "cell_type": "code",
   "execution_count": null,
   "id": "614228a5-e542-4095-8a5e-a3d7bbb3c6a2",
   "metadata": {},
   "outputs": [],
   "source": [
    "                              #DICTIONARY"
   ]
  },
  {
   "cell_type": "code",
   "execution_count": 1,
   "id": "3f5dc075-a2f9-4bab-b2c5-56852d4a0ef3",
   "metadata": {},
   "outputs": [],
   "source": [
    "d={}"
   ]
  },
  {
   "cell_type": "code",
   "execution_count": 2,
   "id": "928b62b4-aae2-4966-8dd5-c9f52d3ee80f",
   "metadata": {},
   "outputs": [
    {
     "data": {
      "text/plain": [
       "dict"
      ]
     },
     "execution_count": 2,
     "metadata": {},
     "output_type": "execute_result"
    }
   ],
   "source": [
    "type(d)"
   ]
  },
  {
   "cell_type": "code",
   "execution_count": 6,
   "id": "5da147a8-79ba-465d-956b-14f87a5a9818",
   "metadata": {},
   "outputs": [],
   "source": [
    "d1={\"key\" :\"sudh\"}"
   ]
  },
  {
   "cell_type": "code",
   "execution_count": 7,
   "id": "c0f86cec-6602-479f-9faf-2c58397eecbd",
   "metadata": {},
   "outputs": [
    {
     "data": {
      "text/plain": [
       "{'key': 'sudh'}"
      ]
     },
     "execution_count": 7,
     "metadata": {},
     "output_type": "execute_result"
    }
   ],
   "source": [
    "d1"
   ]
  },
  {
   "cell_type": "code",
   "execution_count": 8,
   "id": "1801cb77-0ab7-448b-9802-a8e4c724c204",
   "metadata": {},
   "outputs": [],
   "source": [
    "d2={\"name\":\"upendra\" ,\"email\": \"uy154788\",\"number\": 334534}"
   ]
  },
  {
   "cell_type": "code",
   "execution_count": 9,
   "id": "9495afa0-8f18-47ae-8d6a-c1d299b363d1",
   "metadata": {},
   "outputs": [
    {
     "data": {
      "text/plain": [
       "{'name': 'upendra', 'email': 'uy154788', 'number': 334534}"
      ]
     },
     "execution_count": 9,
     "metadata": {},
     "output_type": "execute_result"
    }
   ],
   "source": [
    "d2"
   ]
  },
  {
   "cell_type": "code",
   "execution_count": 14,
   "id": "71f89b72-b7bf-4c30-addc-22d0c1da9fd4",
   "metadata": {},
   "outputs": [],
   "source": [
    "d3={234:\"sudh\",'_wer': \"kumar\", True:23434}"
   ]
  },
  {
   "cell_type": "code",
   "execution_count": 15,
   "id": "a02e2a71-b844-4d40-a2a5-a72d062bbfba",
   "metadata": {},
   "outputs": [
    {
     "data": {
      "text/plain": [
       "{234: 'sudh', '_wer': 'kumar', True: 23434}"
      ]
     },
     "execution_count": 15,
     "metadata": {},
     "output_type": "execute_result"
    }
   ],
   "source": [
    "d3"
   ]
  },
  {
   "cell_type": "code",
   "execution_count": 18,
   "id": "fade1efe-f36e-48ee-9bb9-f7cf23296fce",
   "metadata": {},
   "outputs": [
    {
     "data": {
      "text/plain": [
       "'sudh'"
      ]
     },
     "execution_count": 18,
     "metadata": {},
     "output_type": "execute_result"
    }
   ],
   "source": [
    "d3[234]"
   ]
  },
  {
   "cell_type": "code",
   "execution_count": 19,
   "id": "a8d65407-b8b7-4966-92a9-f47399c94b85",
   "metadata": {},
   "outputs": [
    {
     "data": {
      "text/plain": [
       "23434"
      ]
     },
     "execution_count": 19,
     "metadata": {},
     "output_type": "execute_result"
    }
   ],
   "source": [
    "d3[True]"
   ]
  },
  {
   "cell_type": "code",
   "execution_count": 20,
   "id": "e04948ca-98ae-4b74-a876-b49027cbf6f5",
   "metadata": {},
   "outputs": [
    {
     "data": {
      "text/plain": [
       "23434"
      ]
     },
     "execution_count": 20,
     "metadata": {},
     "output_type": "execute_result"
    }
   ],
   "source": [
    "d3[1]     #bcoz True=1"
   ]
  },
  {
   "cell_type": "code",
   "execution_count": 21,
   "id": "7653e6ef-ff56-4020-9153-04628e7fae74",
   "metadata": {},
   "outputs": [
    {
     "ename": "KeyError",
     "evalue": "2",
     "output_type": "error",
     "traceback": [
      "\u001b[0;31m---------------------------------------------------------------------------\u001b[0m",
      "\u001b[0;31mKeyError\u001b[0m                                  Traceback (most recent call last)",
      "Cell \u001b[0;32mIn [21], line 1\u001b[0m\n\u001b[0;32m----> 1\u001b[0m \u001b[43md3\u001b[49m\u001b[43m[\u001b[49m\u001b[38;5;241;43m2\u001b[39;49m\u001b[43m]\u001b[49m\n",
      "\u001b[0;31mKeyError\u001b[0m: 2"
     ]
    }
   ],
   "source": [
    "d3[2]"
   ]
  },
  {
   "cell_type": "code",
   "execution_count": 25,
   "id": "23bd4913-553c-446d-9104-39f4887a214e",
   "metadata": {},
   "outputs": [],
   "source": [
    "d4={'name':\"sudh\" , 'mail id':\"ss@gmail.com\", \"name\":\"sudhanshu\"}"
   ]
  },
  {
   "cell_type": "code",
   "execution_count": 23,
   "id": "f4289427-9d13-465e-aa81-2e34364b8d89",
   "metadata": {},
   "outputs": [
    {
     "data": {
      "text/plain": [
       "'sudhanshu'"
      ]
     },
     "execution_count": 23,
     "metadata": {},
     "output_type": "execute_result"
    }
   ],
   "source": [
    "d4['name']"
   ]
  },
  {
   "cell_type": "code",
   "execution_count": 26,
   "id": "c7b4acc7-d230-45d7-b7c1-a7f5119a1eb1",
   "metadata": {},
   "outputs": [],
   "source": [
    "d5={\"company\":\"pwskills\", \"course\":[\"web d\", \"data science\", \"java with dsa\"]}"
   ]
  },
  {
   "cell_type": "code",
   "execution_count": 27,
   "id": "964dbf60-05f0-427d-ad52-2bc9775212e6",
   "metadata": {},
   "outputs": [
    {
     "data": {
      "text/plain": [
       "{'company': 'pwskills', 'course': ['web d', 'data science', 'java with dsa']}"
      ]
     },
     "execution_count": 27,
     "metadata": {},
     "output_type": "execute_result"
    }
   ],
   "source": [
    "d5"
   ]
  },
  {
   "cell_type": "code",
   "execution_count": 29,
   "id": "d62d94ab-9cfb-4752-af76-b803fc46268d",
   "metadata": {},
   "outputs": [
    {
     "data": {
      "text/plain": [
       "['web d', 'data science', 'java with dsa']"
      ]
     },
     "execution_count": 29,
     "metadata": {},
     "output_type": "execute_result"
    }
   ],
   "source": [
    "d5[\"course\"]"
   ]
  },
  {
   "cell_type": "code",
   "execution_count": 31,
   "id": "6b539d63-2b91-47ac-a558-14fbe0b139fd",
   "metadata": {},
   "outputs": [
    {
     "data": {
      "text/plain": [
       "'java with dsa'"
      ]
     },
     "execution_count": 31,
     "metadata": {},
     "output_type": "execute_result"
    }
   ],
   "source": [
    "d5[\"course\"][2]"
   ]
  },
  {
   "cell_type": "code",
   "execution_count": 1,
   "id": "f1572f39-78b3-46d7-95f5-4b0a73eec88a",
   "metadata": {},
   "outputs": [],
   "source": [
    "d6={\"number\": [2,34,3,34,34], \"assignment\":(1,2,3,4,5,6) , \"launch_date\": {28,12 ,14},\"class_timing\":{\"web dev\":8 ,\"java with dsa\":7}}"
   ]
  },
  {
   "cell_type": "code",
   "execution_count": 35,
   "id": "02d0b4f5-a6f3-4813-9841-d0d4f32ab145",
   "metadata": {},
   "outputs": [
    {
     "data": {
      "text/plain": [
       "{'number': [2, 34, 3, 34, 34],\n",
       " 'assignment': (1, 2, 3, 4, 5, 6),\n",
       " 'launch_date': {12, 14, 28},\n",
       " 'class_timing': {'web dev': 8, 'java with dsa': 7}}"
      ]
     },
     "execution_count": 35,
     "metadata": {},
     "output_type": "execute_result"
    }
   ],
   "source": [
    "d6"
   ]
  },
  {
   "cell_type": "code",
   "execution_count": 36,
   "id": "0a5ccb94-7a75-4b88-971e-ba5f9149c8d1",
   "metadata": {},
   "outputs": [
    {
     "data": {
      "text/plain": [
       "7"
      ]
     },
     "execution_count": 36,
     "metadata": {},
     "output_type": "execute_result"
    }
   ],
   "source": [
    "d6[\"class_timing\"][\"java with dsa\"]"
   ]
  },
  {
   "cell_type": "code",
   "execution_count": 2,
   "id": "bf6c0032-7ae5-43fc-a6ac-9a203329c08c",
   "metadata": {},
   "outputs": [],
   "source": [
    "d6['mentor']=[\"sudhanshu\",\"krish\",\"anurag\",\"haider\"]"
   ]
  },
  {
   "cell_type": "code",
   "execution_count": 3,
   "id": "d6e753ba-890e-4422-a4fc-2d925cfd4404",
   "metadata": {},
   "outputs": [
    {
     "data": {
      "text/plain": [
       "{'number': [2, 34, 3, 34, 34],\n",
       " 'assignment': (1, 2, 3, 4, 5, 6),\n",
       " 'launch_date': {12, 14, 28},\n",
       " 'class_timing': {'web dev': 8, 'java with dsa': 7},\n",
       " 'mentor': ['sudhanshu', 'krish', 'anurag', 'haider']}"
      ]
     },
     "execution_count": 3,
     "metadata": {},
     "output_type": "execute_result"
    }
   ],
   "source": [
    "d6"
   ]
  },
  {
   "cell_type": "code",
   "execution_count": 4,
   "id": "698bf9e4-81c8-4f35-9bdc-f78ac2b484a9",
   "metadata": {},
   "outputs": [],
   "source": [
    "del d6['number']"
   ]
  },
  {
   "cell_type": "code",
   "execution_count": 5,
   "id": "a3709a9e-991f-49e7-9065-1272f7215230",
   "metadata": {},
   "outputs": [
    {
     "data": {
      "text/plain": [
       "{'assignment': (1, 2, 3, 4, 5, 6),\n",
       " 'launch_date': {12, 14, 28},\n",
       " 'class_timing': {'web dev': 8, 'java with dsa': 7},\n",
       " 'mentor': ['sudhanshu', 'krish', 'anurag', 'haider']}"
      ]
     },
     "execution_count": 5,
     "metadata": {},
     "output_type": "execute_result"
    }
   ],
   "source": [
    "d6"
   ]
  },
  {
   "cell_type": "code",
   "execution_count": 6,
   "id": "801d3077-8787-46be-a63e-69cb482f545a",
   "metadata": {},
   "outputs": [
    {
     "data": {
      "text/plain": [
       "dict_keys(['assignment', 'launch_date', 'class_timing', 'mentor'])"
      ]
     },
     "execution_count": 6,
     "metadata": {},
     "output_type": "execute_result"
    }
   ],
   "source": [
    "d6.keys()"
   ]
  },
  {
   "cell_type": "code",
   "execution_count": 7,
   "id": "ee5392b2-5987-4748-aa3b-9200d72ac826",
   "metadata": {},
   "outputs": [
    {
     "data": {
      "text/plain": [
       "dict_values([(1, 2, 3, 4, 5, 6), {28, 12, 14}, {'web dev': 8, 'java with dsa': 7}, ['sudhanshu', 'krish', 'anurag', 'haider']])"
      ]
     },
     "execution_count": 7,
     "metadata": {},
     "output_type": "execute_result"
    }
   ],
   "source": [
    "d6.values()"
   ]
  },
  {
   "cell_type": "code",
   "execution_count": 8,
   "id": "9340e294-9c3e-474d-8c48-7743fc66072b",
   "metadata": {},
   "outputs": [
    {
     "data": {
      "text/plain": [
       "[(1, 2, 3, 4, 5, 6),\n",
       " {12, 14, 28},\n",
       " {'web dev': 8, 'java with dsa': 7},\n",
       " ['sudhanshu', 'krish', 'anurag', 'haider']]"
      ]
     },
     "execution_count": 8,
     "metadata": {},
     "output_type": "execute_result"
    }
   ],
   "source": [
    "list(d6.values())"
   ]
  },
  {
   "cell_type": "code",
   "execution_count": 9,
   "id": "59d86a9f-c8d3-4455-9207-6e5a65cd79f4",
   "metadata": {},
   "outputs": [
    {
     "data": {
      "text/plain": [
       "dict_items([('assignment', (1, 2, 3, 4, 5, 6)), ('launch_date', {28, 12, 14}), ('class_timing', {'web dev': 8, 'java with dsa': 7}), ('mentor', ['sudhanshu', 'krish', 'anurag', 'haider'])])"
      ]
     },
     "execution_count": 9,
     "metadata": {},
     "output_type": "execute_result"
    }
   ],
   "source": [
    "d6.items()"
   ]
  },
  {
   "cell_type": "code",
   "execution_count": 10,
   "id": "8a77a69c-a98f-43d8-8998-d164cb6d99b0",
   "metadata": {},
   "outputs": [
    {
     "data": {
      "text/plain": [
       "[('assignment', (1, 2, 3, 4, 5, 6)),\n",
       " ('launch_date', {12, 14, 28}),\n",
       " ('class_timing', {'web dev': 8, 'java with dsa': 7}),\n",
       " ('mentor', ['sudhanshu', 'krish', 'anurag', 'haider'])]"
      ]
     },
     "execution_count": 10,
     "metadata": {},
     "output_type": "execute_result"
    }
   ],
   "source": [
    "list(d6.items())"
   ]
  },
  {
   "cell_type": "code",
   "execution_count": 13,
   "id": "5931052d-56b7-4d11-b685-6dcb44cb3d43",
   "metadata": {},
   "outputs": [
    {
     "data": {
      "text/plain": [
       "(1, 2, 3, 4, 5, 6)"
      ]
     },
     "execution_count": 13,
     "metadata": {},
     "output_type": "execute_result"
    }
   ],
   "source": [
    "d6.pop('assignment')"
   ]
  },
  {
   "cell_type": "code",
   "execution_count": 14,
   "id": "2614f439-acf7-4dee-afc0-9a9afe5454a5",
   "metadata": {},
   "outputs": [
    {
     "data": {
      "text/plain": [
       "{'launch_date': {12, 14, 28},\n",
       " 'class_timing': {'web dev': 8, 'java with dsa': 7},\n",
       " 'mentor': ['sudhanshu', 'krish', 'anurag', 'haider']}"
      ]
     },
     "execution_count": 14,
     "metadata": {},
     "output_type": "execute_result"
    }
   ],
   "source": [
    "d6"
   ]
  },
  {
   "cell_type": "code",
   "execution_count": null,
   "id": "fc5d0d8d-74a2-4ff1-8b24-2dee9cca2ff4",
   "metadata": {},
   "outputs": [],
   "source": []
  },
  {
   "cell_type": "code",
   "execution_count": null,
   "id": "47061d86-4cea-4d4d-bd0e-11f28479c4a0",
   "metadata": {},
   "outputs": [],
   "source": []
  },
  {
   "cell_type": "code",
   "execution_count": null,
   "id": "76cabd80-a585-40a5-bb83-8ec9a67be228",
   "metadata": {},
   "outputs": [],
   "source": []
  },
  {
   "cell_type": "code",
   "execution_count": 16,
   "id": "5314f2c8-bc15-4898-8c16-e25c74c862ea",
   "metadata": {},
   "outputs": [],
   "source": [
    "                          #control statement"
   ]
  },
  {
   "cell_type": "code",
   "execution_count": 21,
   "id": "8e4826d6-279e-4964-8adb-89253cd6c49c",
   "metadata": {},
   "outputs": [
    {
     "name": "stdout",
     "output_type": "stream",
     "text": [
      "you will be a part of A0 batch\n"
     ]
    }
   ],
   "source": [
    "marks=89\n",
    "if marks >= 80:\n",
    "    print(\"you will be a part of A0 batch\")\n",
    "elif marks >=60 and marks <80:\n",
    "    print(\"you will be a part of A batch\")\n",
    "elif marks >=40 and marks <60:\n",
    "    print(\"you will be a part of A2 batch\")\n",
    "else:\n",
    "    print(\"you will be a part of A3 batch\")"
   ]
  },
  {
   "cell_type": "code",
   "execution_count": 29,
   "id": "ca4f914f-ab82-4a22-bf10-690c7f369ede",
   "metadata": {},
   "outputs": [
    {
     "name": "stdin",
     "output_type": "stream",
     "text": [
      "Enter the marks:  88\n"
     ]
    },
    {
     "name": "stdout",
     "output_type": "stream",
     "text": [
      "you will be a part of A0 batch\n"
     ]
    }
   ],
   "source": [
    "marks=int(input(\"Enter the marks: \"))\n",
    "if marks >= 80:\n",
    "    print(\"you will be a part of A0 batch\")\n",
    "elif marks >=60 and marks <80:\n",
    "    print(\"you will be a part of A batch\")\n",
    "elif marks >=40 and marks <60:\n",
    "    print(\"you will be a part of A2 batch\")\n",
    "else:\n",
    "    print(\"you will be a part of A3 batch\")"
   ]
  },
  {
   "cell_type": "code",
   "execution_count": 30,
   "id": "3566ea97-3642-4b6d-be55-42f2a6dc7f61",
   "metadata": {},
   "outputs": [
    {
     "data": {
      "text/plain": [
       "88"
      ]
     },
     "execution_count": 30,
     "metadata": {},
     "output_type": "execute_result"
    }
   ],
   "source": [
    "marks"
   ]
  },
  {
   "cell_type": "code",
   "execution_count": 31,
   "id": "de502bb1-3415-4aab-8ef3-688c8385954a",
   "metadata": {},
   "outputs": [
    {
     "data": {
      "text/plain": [
       "int"
      ]
     },
     "execution_count": 31,
     "metadata": {},
     "output_type": "execute_result"
    }
   ],
   "source": [
    "type(marks)"
   ]
  },
  {
   "cell_type": "code",
   "execution_count": 32,
   "id": "2b7ae706-8287-44f5-bc2a-758db02c7bc5",
   "metadata": {},
   "outputs": [
    {
     "name": "stdin",
     "output_type": "stream",
     "text": [
      "Enter the price 556\n"
     ]
    },
    {
     "name": "stdout",
     "output_type": "stream",
     "text": [
      "i will purchase\n"
     ]
    }
   ],
   "source": [
    "price=int(input(\"Enter the price\"))\n",
    "if(price>1000):\n",
    "    print(\"i will not purchase\")\n",
    "else:\n",
    "    print(\"i will purchase\")"
   ]
  },
  {
   "cell_type": "code",
   "execution_count": 35,
   "id": "4cee894b-ecf1-40d7-b23c-d4aea6d6d8cd",
   "metadata": {},
   "outputs": [
    {
     "name": "stdin",
     "output_type": "stream",
     "text": [
      "Enter the price 1234\n"
     ]
    },
    {
     "name": "stdout",
     "output_type": "stream",
     "text": [
      "i will not purchase\n"
     ]
    }
   ],
   "source": [
    "price=int(input(\"Enter the price\"))\n",
    "if(price>1000):\n",
    "    print(\"i will not purchase\")"
   ]
  },
  {
   "cell_type": "code",
   "execution_count": 36,
   "id": "9852a000-bb34-4dba-8533-41dd37565de8",
   "metadata": {},
   "outputs": [
    {
     "name": "stdin",
     "output_type": "stream",
     "text": [
      "Enter the price 1543\n"
     ]
    },
    {
     "name": "stdout",
     "output_type": "stream",
     "text": [
      "i will not purchase\n",
      "It's ok\n"
     ]
    }
   ],
   "source": [
    "price=int(input(\"Enter the price\"))\n",
    "if(price>1000):\n",
    "    print(\"i will not purchase\")\n",
    "    if(price>5000):\n",
    "        print(\"This is too much\")\n",
    "    elif(price<2000):\n",
    "        print(\"It's ok\")\n",
    "else:\n",
    "    print(\"i will purchase\")"
   ]
  },
  {
   "cell_type": "code",
   "execution_count": null,
   "id": "36832d9e-6d8e-4f77-a38b-39501cbe0fcb",
   "metadata": {},
   "outputs": [],
   "source": []
  },
  {
   "cell_type": "code",
   "execution_count": null,
   "id": "458d1a13-1d2f-4b98-85f1-d9b3f82b5613",
   "metadata": {},
   "outputs": [],
   "source": []
  },
  {
   "cell_type": "code",
   "execution_count": 37,
   "id": "04be9b60-dfc8-4f5f-8912-7f0954a6410d",
   "metadata": {},
   "outputs": [],
   "source": [
    "                        #LOOPS"
   ]
  },
  {
   "cell_type": "code",
   "execution_count": 40,
   "id": "8af6b5f1-6fc8-4894-a083-8ed8047a0065",
   "metadata": {},
   "outputs": [
    {
     "name": "stdout",
     "output_type": "stream",
     "text": [
      "1\n",
      "2\n",
      "3\n",
      "3\n",
      "4\n",
      "5\n",
      "6\n",
      "7\n",
      "8\n"
     ]
    }
   ],
   "source": [
    "l=[1,2,3,3,4,5,6,7,8]\n",
    "for i in l:\n",
    "    print(i)\n"
   ]
  },
  {
   "cell_type": "code",
   "execution_count": 42,
   "id": "29d34749-9be2-4679-af60-546b3360a0a2",
   "metadata": {},
   "outputs": [],
   "source": [
    "l=[1,2,3,3,4,5,6,7,8]\n",
    "l1=[]\n",
    "for i in l:\n",
    "    # print(i+1)\n",
    "    l1.append(i+1)\n",
    "    "
   ]
  },
  {
   "cell_type": "code",
   "execution_count": 43,
   "id": "28680543-c25b-4a20-8877-ac02b9b32285",
   "metadata": {},
   "outputs": [
    {
     "data": {
      "text/plain": [
       "[2, 3, 4, 4, 5, 6, 7, 8, 9]"
      ]
     },
     "execution_count": 43,
     "metadata": {},
     "output_type": "execute_result"
    }
   ],
   "source": [
    "l1"
   ]
  },
  {
   "cell_type": "code",
   "execution_count": 44,
   "id": "70e657aa-9bbe-483b-97a7-3c9eacbdf6e2",
   "metadata": {},
   "outputs": [],
   "source": [
    "l=[\"sudh\", \"kumar\", \"pwskills\", \"course\"]"
   ]
  },
  {
   "cell_type": "code",
   "execution_count": 51,
   "id": "61c8b4be-ce3b-4e46-af46-23284981bb5d",
   "metadata": {},
   "outputs": [],
   "source": [
    "l1=[]\n",
    "for i in l:\n",
    "    # print(i)\n",
    "    l1.append(i.upper())"
   ]
  },
  {
   "cell_type": "code",
   "execution_count": 52,
   "id": "19a709bc-53dc-45bd-9e3e-3c38951479e6",
   "metadata": {},
   "outputs": [
    {
     "data": {
      "text/plain": [
       "['SUDH', 'KUMAR', 'PWSKILLS', 'COURSE']"
      ]
     },
     "execution_count": 52,
     "metadata": {},
     "output_type": "execute_result"
    }
   ],
   "source": [
    "l1"
   ]
  },
  {
   "cell_type": "code",
   "execution_count": 56,
   "id": "915bee6e-70c0-4813-b837-82b1a14231ac",
   "metadata": {},
   "outputs": [],
   "source": [
    "l=[1,2,3,4,4,\"sudh\",\"kumar\",324,34,456,\"abc\"]\n",
    "l1=[]\n",
    "l2=[]\n",
    "for i in l:\n",
    "    if(type(i)==int or type(i)==float):\n",
    "        l1.append(i)\n",
    "    else:\n",
    "        l2.append(i)"
   ]
  },
  {
   "cell_type": "code",
   "execution_count": 57,
   "id": "a6d85a05-7f42-4fa4-9c3d-a7e1b21df2af",
   "metadata": {},
   "outputs": [
    {
     "data": {
      "text/plain": [
       "['sudh', 'kumar', 'abc']"
      ]
     },
     "execution_count": 57,
     "metadata": {},
     "output_type": "execute_result"
    }
   ],
   "source": [
    "l2"
   ]
  },
  {
   "cell_type": "code",
   "execution_count": 58,
   "id": "11079ef7-cc86-4575-9766-94ddabcd6c4b",
   "metadata": {},
   "outputs": [
    {
     "data": {
      "text/plain": [
       "[1, 2, 3, 4, 4, 324, 34, 456]"
      ]
     },
     "execution_count": 58,
     "metadata": {},
     "output_type": "execute_result"
    }
   ],
   "source": [
    "l1"
   ]
  },
  {
   "cell_type": "code",
   "execution_count": 59,
   "id": "d82b96b1-6b74-43e1-9fd9-95cbd68ca1bd",
   "metadata": {},
   "outputs": [
    {
     "data": {
      "text/plain": [
       "[1, 2, 3, 4, 4, 324, 34, 456, 'sudh', 'kumar', 'abc']"
      ]
     },
     "execution_count": 59,
     "metadata": {},
     "output_type": "execute_result"
    }
   ],
   "source": [
    "l1+l2"
   ]
  },
  {
   "cell_type": "code",
   "execution_count": null,
   "id": "6eca3517-a6bf-4a25-b773-2fcbc93f5583",
   "metadata": {},
   "outputs": [],
   "source": []
  }
 ],
 "metadata": {
  "kernelspec": {
   "display_name": "Python 3 (ipykernel)",
   "language": "python",
   "name": "python3"
  },
  "language_info": {
   "codemirror_mode": {
    "name": "ipython",
    "version": 3
   },
   "file_extension": ".py",
   "mimetype": "text/x-python",
   "name": "python",
   "nbconvert_exporter": "python",
   "pygments_lexer": "ipython3",
   "version": "3.10.6"
  }
 },
 "nbformat": 4,
 "nbformat_minor": 5
}
